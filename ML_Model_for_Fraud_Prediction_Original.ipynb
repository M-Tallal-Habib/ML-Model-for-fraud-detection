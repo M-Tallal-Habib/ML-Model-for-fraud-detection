{
  "nbformat": 4,
  "nbformat_minor": 0,
  "metadata": {
    "colab": {
      "name": "ML_Model_for_Fraud_Prediction-Original.ipynb",
      "version": "0.3.2",
      "provenance": [],
      "collapsed_sections": []
    },
    "kernelspec": {
      "name": "python3",
      "display_name": "Python 3"
    },
    "accelerator": "GPU"
  },
  "cells": [
    {
      "cell_type": "markdown",
      "metadata": {
        "id": "wch53s8m7A8l",
        "colab_type": "text"
      },
      "source": [
        ""
      ]
    },
    {
      "cell_type": "code",
      "metadata": {
        "id": "TLZ4uNDQu3OI",
        "colab_type": "code",
        "outputId": "e5280503-d3d8-4683-f535-35af22bd7e23",
        "colab": {
          "resources": {
            "http://localhost:8080/nbextensions/google.colab/files.js": {
              "data": "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",
              "ok": true,
              "headers": [
                [
                  "content-type",
                  "application/javascript"
                ]
              ],
              "status": 200,
              "status_text": ""
            }
          },
          "base_uri": "https://localhost:8080/",
          "height": 91
        }
      },
      "source": [
        "from google.colab import files\n",
        "\n",
        "uploaded = files.upload()\n",
        "\n",
        "for fn in uploaded.keys():\n",
        "  print('User uploaded file \"{name}\" with length {length} bytes'.format(\n",
        "      name=fn, length=len(uploaded[fn])))"
      ],
      "execution_count": 0,
      "outputs": [
        {
          "output_type": "display_data",
          "data": {
            "text/html": [
              "\n",
              "     <input type=\"file\" id=\"files-2220af8f-fbdd-45e4-8ec6-73ea57e75ede\" name=\"files[]\" multiple disabled />\n",
              "     <output id=\"result-2220af8f-fbdd-45e4-8ec6-73ea57e75ede\">\n",
              "      Upload widget is only available when the cell has been executed in the\n",
              "      current browser session. Please rerun this cell to enable.\n",
              "      </output>\n",
              "      <script src=\"/nbextensions/google.colab/files.js\"></script> "
            ],
            "text/plain": [
              "<IPython.core.display.HTML object>"
            ]
          },
          "metadata": {
            "tags": []
          }
        },
        {
          "output_type": "stream",
          "text": [
            "Saving transactions_full_2.csv to transactions_full_2.csv\n",
            "User uploaded file \"transactions_full_2.csv\" with length 13772806 bytes\n"
          ],
          "name": "stdout"
        }
      ]
    },
    {
      "cell_type": "code",
      "metadata": {
        "id": "VAPbl86qvJa8",
        "colab_type": "code",
        "outputId": "ddba50db-8aa6-4ecd-9df8-ca30f2f09299",
        "colab": {
          "base_uri": "https://localhost:8080/",
          "height": 85
        }
      },
      "source": [
        "!pip install XGBoost\n",
        "import pandas as pd\n",
        "import numpy as np\n",
        "import seaborn as sns\n",
        "from sklearn import preprocessing\n",
        "from sklearn.model_selection import train_test_split\n",
        "from sklearn.metrics import precision_score\n",
        "from sklearn.metrics import recall_score\n",
        "from sklearn.metrics import f1_score\n",
        "from sklearn.linear_model import LogisticRegression\n",
        "from sklearn.externals import joblib\n",
        "from sklearn.metrics import recall_score\n",
        "from sklearn.metrics import roc_auc_score,roc_curve\n",
        "from sklearn.neighbors import KNeighborsClassifier\n",
        "from sklearn.ensemble import RandomForestClassifier\n",
        "from xgboost import XGBClassifier\n",
        "import pickle\n",
        "import warnings\n",
        "warnings.warn('ignore', category=DeprecationWarning)"
      ],
      "execution_count": 0,
      "outputs": [
        {
          "output_type": "stream",
          "text": [
            "Requirement already satisfied: XGBoost in /usr/local/lib/python3.6/dist-packages (0.90)\n",
            "Requirement already satisfied: numpy in /usr/local/lib/python3.6/dist-packages (from XGBoost) (1.16.5)\n",
            "Requirement already satisfied: scipy in /usr/local/lib/python3.6/dist-packages (from XGBoost) (1.3.1)\n"
          ],
          "name": "stdout"
        },
        {
          "output_type": "stream",
          "text": [
            "/usr/local/lib/python3.6/dist-packages/ipykernel_launcher.py:19: DeprecationWarning: ignore\n"
          ],
          "name": "stderr"
        }
      ]
    },
    {
      "cell_type": "code",
      "metadata": {
        "id": "YSq26bd8v8l7",
        "colab_type": "code",
        "outputId": "c08ea5c0-327c-4f51-e9a3-46aa75c3d599",
        "colab": {
          "base_uri": "https://localhost:8080/",
          "height": 527
        }
      },
      "source": [
        "data=pd.read_csv('./transactions_full_2.csv')\n",
        "data=data.rename(columns={'Unnamed: 0':'Index','CCY':'COUNTRY_CURRENCY','KYC':'AUTH_PASSED'}) \n",
        "data=data.drop(columns=['TRAN_CREATED_DATE','USER_ID','TRAN_ID','USER_CREATED_DATE','CODE','CODE3'\t,'NUMCODE',\t'PHONECODE',\t'IS_FRAUDSTER_N'],axis=1)\n",
        "\n",
        "data['TERMS_VERSION']=pd.to_datetime(data['TERMS_VERSION'],format='%d/%m/%Y')\n",
        "data['TRANS_DAY'] = data['TERMS_VERSION'].dt.day_name()\n",
        "\n",
        "data['TRANS_MONTH'] = data['TERMS_VERSION'].dt.month_name()\n",
        "data['TRANS_YEAR'] = data['TERMS_VERSION'].dt.year\n",
        "data['TRANS_YEAR']=data['TRANS_YEAR'].apply(lambda x: str(x))\n",
        "data=data.drop(['TERMS_VERSION'],axis=1)\n",
        "#data=data.fillna('NULL')\n",
        "\n",
        "data.info()"
      ],
      "execution_count": 0,
      "outputs": [
        {
          "output_type": "stream",
          "text": [
            "<class 'pandas.core.frame.DataFrame'>\n",
            "RangeIndex: 57748 entries, 0 to 57747\n",
            "Data columns (total 25 columns):\n",
            "Index                      57748 non-null int64\n",
            "CURRENCY                   57748 non-null object\n",
            "AMOUNT                     57748 non-null int64\n",
            "TRAN_STATE                 57748 non-null object\n",
            "MERCHANT_CATEGORY          20082 non-null object\n",
            "MERCHANT_COUNTRY           41662 non-null object\n",
            "ENTRY_METHOD               57748 non-null object\n",
            "TYPE                       57748 non-null object\n",
            "SOURCE                     57748 non-null object\n",
            "AMOUNT_USD                 57748 non-null int64\n",
            "COUNTRY_CURRENCY           57748 non-null object\n",
            "EXPONENT                   57748 non-null int64\n",
            "IS_CRYPTO                  57748 non-null bool\n",
            "HAS_EMAIL                  55262 non-null float64\n",
            "PHONE_COUNTRY              55262 non-null object\n",
            "IS_FRAUDSTER               55262 non-null object\n",
            "USER_STATE                 55262 non-null object\n",
            "COUNTRY                    55262 non-null object\n",
            "BIRTH_YEAR                 55262 non-null float64\n",
            "AUTH_PASSED                55262 non-null object\n",
            "FAILED_SIGN_IN_ATTEMPTS    55262 non-null float64\n",
            "NAME                       55243 non-null object\n",
            "TRANS_DAY                  54636 non-null object\n",
            "TRANS_MONTH                54636 non-null object\n",
            "TRANS_YEAR                 57748 non-null object\n",
            "dtypes: bool(1), float64(3), int64(4), object(17)\n",
            "memory usage: 10.6+ MB\n"
          ],
          "name": "stdout"
        }
      ]
    },
    {
      "cell_type": "code",
      "metadata": {
        "id": "sl_9hDzLJJVx",
        "colab_type": "code",
        "colab": {}
      },
      "source": [
        "def change_label(label):\n",
        "  if label==True:\n",
        "    return 1\n",
        "  elif label==False:\n",
        "    return 0\n",
        "  else:\n",
        "    return -1\n",
        "  "
      ],
      "execution_count": 0,
      "outputs": []
    },
    {
      "cell_type": "code",
      "metadata": {
        "id": "DE6TWyPMJPwa",
        "colab_type": "code",
        "outputId": "a1810dca-fc62-4567-a052-6973f405eb79",
        "colab": {
          "base_uri": "https://localhost:8080/",
          "height": 34
        }
      },
      "source": [
        "data['IS_FRAUDSTER']=data['IS_FRAUDSTER'].apply(change_label)\n",
        "print (\"Fraud Rate = {}\".format((data[data.IS_FRAUDSTER==1].count()['IS_FRAUDSTER']/data.shape[0])*100))"
      ],
      "execution_count": 0,
      "outputs": [
        {
          "output_type": "stream",
          "text": [
            "Fraud Rate = 2.34813326868463\n"
          ],
          "name": "stdout"
        }
      ]
    },
    {
      "cell_type": "code",
      "metadata": {
        "id": "fCWkOIEcJbBT",
        "colab_type": "code",
        "outputId": "fc3ed56f-cc0a-4b68-a211-0e32f0d1a26a",
        "colab": {
          "base_uri": "https://localhost:8080/",
          "height": 241
        }
      },
      "source": [
        "def inflate_fraud_rate(data):\n",
        "  null_columns_list=list()\n",
        "  for i in data.columns:\n",
        "    if data[i].isnull().values.any()==True and data[i].dtype==object:\n",
        "      null_columns_list.append(i)\n",
        "\n",
        "  data=data.fillna(\"UNK\")\n",
        "  X_replica=[]\n",
        "  pred_values=[]\n",
        "  encode_list=list()\n",
        "  for k in data.columns:\n",
        "    if data[k].dtype==object and k!='IS_FRAUDSTER':\n",
        "      \n",
        "      encode_list.append(k)\n",
        "      X=data[k].values.tolist()\n",
        "      le = preprocessing.LabelEncoder()\n",
        "      X=le.fit_transform(X)\n",
        "      X_replica.append((k,le))\n",
        "      data[k]=X\n",
        "\n",
        "  for j in null_columns_list:\n",
        "    if 0 in data[j].values.tolist() and j!='IS_FRAUDSTER':\n",
        "   \n",
        "      train_data=data[data[j]!=0]\n",
        "    \n",
        "    \n",
        "      test_data=data[data[j]==0]   \n",
        "\n",
        "      train_data_columns=list(train_data.columns)\n",
        "      train_data_columns.remove(j)\n",
        "    \n",
        "      X_train=np.array(train_data[train_data_columns].values.tolist())\n",
        "    \n",
        "      Y_train=np.array(train_data[j].values.tolist())\n",
        "      X_test=np.array(test_data[train_data_columns].values.tolist())\n",
        "      Y_test=np.array(test_data[j].values.tolist())\n",
        "    \n",
        "      neigh = KNeighborsClassifier(n_neighbors=5)\n",
        "      neigh=neigh.fit(X_train,Y_train)\n",
        "      pred=neigh.predict(X_test)\n",
        "\n",
        "      Y_train=list(Y_train)\n",
        "      pred=list(pred)\n",
        "    \n",
        "      pred_values.append(Y_train+pred)\n",
        "\n",
        "  for val,l in enumerate(null_columns_list):\n",
        "    print (l)\n",
        "    data[l]=pred_values[val]\n",
        "\n",
        "  columns=['CURRENCY', 'AMOUNT', 'TRAN_STATE', 'MERCHANT_CATEGORY',\n",
        "       'MERCHANT_COUNTRY', 'ENTRY_METHOD', 'TYPE', 'SOURCE', 'AMOUNT_USD',\n",
        "       'COUNTRY_CURRENCY', 'EXPONENT', 'IS_CRYPTO', 'HAS_EMAIL',\n",
        "       'PHONE_COUNTRY',  'USER_STATE', 'COUNTRY', 'BIRTH_YEAR',\n",
        "       'AUTH_PASSED', 'FAILED_SIGN_IN_ATTEMPTS', 'NAME', 'TRANS_DAY',\n",
        "       'TRANS_MONTH', 'TRANS_YEAR']\n",
        "    \n",
        "\n",
        "  train_data=data[data['IS_FRAUDSTER']!=-1]\n",
        "  test_data=data[data['IS_FRAUDSTER']==-1]\n",
        "  X_train=np.array(train_data[columns].values.tolist())\n",
        "  Y_train=np.array(train_data['IS_FRAUDSTER'].values.tolist())\n",
        "  X_test=np.array(test_data[columns].values.tolist())\n",
        "  Y_test=np.array(test_data['IS_FRAUDSTER'].values.tolist())\n",
        "\n",
        "  knn=LogisticRegression(class_weight='balanced')\n",
        "  knn=knn.fit(X_train,Y_train)\n",
        "  pred=knn.predict(X_test)\n",
        "  \n",
        "  Y_train=list(Y_train)\n",
        "  pred=list(pred)\n",
        "  n=Y_train+pred\n",
        "  data['IS_FRAUDSTER_Wt']=n\n",
        "  fraud_rate=(data[data.IS_FRAUDSTER_Wt==1].count()['IS_FRAUDSTER_Wt']/data.shape[0])*100\n",
        "  print (fraud_rate)\n",
        "\n",
        "  for m in X_replica:\n",
        "    col=m[0]\n",
        "    obj=m[1]\n",
        "    data[col]=obj.inverse_transform(data[col]) \n",
        "  data=data\n",
        "\n",
        "  return data\n",
        "    \n",
        "data=inflate_fraud_rate(data)"
      ],
      "execution_count": 0,
      "outputs": [
        {
          "output_type": "stream",
          "text": [
            "MERCHANT_CATEGORY\n",
            "MERCHANT_COUNTRY\n",
            "PHONE_COUNTRY\n",
            "USER_STATE\n",
            "COUNTRY\n",
            "AUTH_PASSED\n",
            "NAME\n",
            "TRANS_DAY\n",
            "TRANS_MONTH\n"
          ],
          "name": "stdout"
        },
        {
          "output_type": "stream",
          "text": [
            "/usr/local/lib/python3.6/dist-packages/sklearn/linear_model/logistic.py:432: FutureWarning: Default solver will be changed to 'lbfgs' in 0.22. Specify a solver to silence this warning.\n",
            "  FutureWarning)\n"
          ],
          "name": "stderr"
        },
        {
          "output_type": "stream",
          "text": [
            "6.614947703816583\n"
          ],
          "name": "stdout"
        }
      ]
    },
    {
      "cell_type": "code",
      "metadata": {
        "id": "Pxq3D2C3icWn",
        "colab_type": "code",
        "outputId": "6dc96f9c-0ee9-4cf7-831c-9dbba24f50fd",
        "colab": {
          "base_uri": "https://localhost:8080/",
          "height": 241
        }
      },
      "source": [
        "#IN WHICH CURRENCY MOSTLY FRAUDULENT TRANSACTIONS OCCURRED\n",
        "currency_unique_values=list(np.unique(data['CURRENCY']))\n",
        "mostly_fraudulent_currency=list(data.loc[(data['IS_FRAUDSTER_Wt']==1)].CURRENCY.drop_duplicates().values)\n",
        "print (\"Unique Values of Currency = {}\".format(currency_unique_values))\n",
        "print (\"Values of Fraudulent Currency = {}\".format(mostly_fraudulent_currency))\n",
        "new_data=data.loc[data.CURRENCY.isin(mostly_fraudulent_currency)]\n",
        "\n",
        "##Which type merchants in transactions are flagged fradulent\n",
        "mc_unique_values=list(np.unique(new_data['MERCHANT_CATEGORY']))\n",
        "mostly_fraudulent_mc=list(new_data.loc[(new_data['IS_FRAUDSTER_Wt']==1)].MERCHANT_CATEGORY.drop_duplicates().values)\n",
        "print (\"Unique Values of MC = {}\".format(mc_unique_values))\n",
        "print (\"Values of Fraudulent MC = {}\".format(mostly_fraudulent_mc))\n",
        "new_data=new_data.loc[new_data.MERCHANT_CATEGORY.isin(mostly_fraudulent_mc)]\n",
        "\n",
        "\n",
        "#IN WHICH MERCHANTS Country MOSTLY FRAUDULENT TRANSACTIONS OCCURRED\n",
        "mc_unique_values=list(np.unique(new_data['MERCHANT_COUNTRY']))\n",
        "mostly_fraudulent_mc=list(new_data.loc[(new_data['IS_FRAUDSTER_Wt']==1)].MERCHANT_COUNTRY.drop_duplicates().values)\n",
        "print (\"Unique Values of MCTRY = {}\".format(mc_unique_values))\n",
        "print (\"Values of Fraudulent MCTRY = {}\".format(mostly_fraudulent_mc))\n",
        "new_data=new_data.loc[new_data.MERCHANT_COUNTRY.isin(mostly_fraudulent_mc)]\n",
        "\n",
        "##Which type of entry method in transactions are flagged fradulent\n",
        "mc_unique_values=list(np.unique(new_data['ENTRY_METHOD']))\n",
        "mostly_fraudulent_mc=list(new_data.loc[(new_data['IS_FRAUDSTER_Wt']==1)].ENTRY_METHOD.drop_duplicates().values)\n",
        "print (\"Unique Values of Entry Methods = {}\".format(mc_unique_values))\n",
        "print (\"Values of Fraudulent Entry Methods = {}\".format(mostly_fraudulent_mc))\n",
        "new_data=new_data.loc[new_data.ENTRY_METHOD.isin(mostly_fraudulent_mc)]\n",
        "\n",
        "#Which type of aources in transactions are flagged fradulent\n",
        "mc_unique_values=list(np.unique(new_data['SOURCE']))\n",
        "mostly_fraudulent_mc=list(new_data.loc[(new_data['IS_FRAUDSTER_Wt']==1)].SOURCE.drop_duplicates().values)\n",
        "print (\"Unique Values of Source = {}\".format(mc_unique_values))\n",
        "print (\"Values of Fraudulent Sources = {}\".format(mostly_fraudulent_mc))\n",
        "new_data=new_data.loc[new_data.SOURCE.isin(mostly_fraudulent_mc)]\n",
        "\n",
        "#Which type of authentications in transactions are flagged fradulent\n",
        "mc_unique_values=list(np.unique(new_data['AUTH_PASSED']))\n",
        "mostly_fraudulent_mc=list(new_data.loc[(new_data['IS_FRAUDSTER_Wt']==1)].AUTH_PASSED.drop_duplicates().values)\n",
        "print (\"Unique Values of Authentication = {}\".format(mc_unique_values))\n",
        "print (\"Values of Fraudulent Authentication = {}\".format(mostly_fraudulent_mc))\n",
        "new_data=new_data.loc[new_data.AUTH_PASSED.isin(mostly_fraudulent_mc)]\n",
        "\n",
        "new_data=new_data.drop('IS_FRAUDSTER',axis=1)"
      ],
      "execution_count": 0,
      "outputs": [
        {
          "output_type": "stream",
          "text": [
            "Unique Values of Currency = ['AED', 'AUD', 'BTC', 'CAD', 'CHF', 'CZK', 'DKK', 'ETH', 'EUR', 'GBP', 'HKD', 'HUF', 'ILS', 'INR', 'JPY', 'LTC', 'MAD', 'NOK', 'NZD', 'PLN', 'QAR', 'RON', 'SEK', 'SGD', 'THB', 'TRY', 'USD', 'ZAR']\n",
            "Values of Fraudulent Currency = ['EUR', 'GBP', 'ZAR', 'RON', 'USD', 'INR', 'PLN', 'THB', 'CHF', 'AUD', 'CAD', 'SGD', 'SEK', 'NZD', 'ILS', 'NOK', 'ETH', 'BTC', 'HKD', 'HUF', 'MAD', 'CZK', 'DKK', 'AED']\n",
            "Unique Values of MC = ['accounting', 'administrative_area_level_1', 'administrative_area_level_3', 'airport', 'amusement_park', 'aquarium', 'art_gallery', 'atm', 'bakery', 'bank', 'bar', 'beauty_salon', 'bicycle_store', 'book_store', 'bowling_alley', 'bus_station', 'cafe', 'campground', 'car_dealer', 'car_rental', 'car_repair', 'car_wash', 'casino', 'church', 'city_hall', 'clothing_store', 'convenience_store', 'courthouse', 'dentist', 'department_store', 'doctor', 'electrician', 'electronics_store', 'embassy', 'finance', 'fire_station', 'florist', 'food', 'funeral_home', 'furniture_store', 'gas_station', 'general_contractor', 'grocery_or_supermarket', 'gym', 'hair_care', 'hardware_store', 'health', 'home_goods_store', 'hospital', 'insurance_agency', 'jewelry_store', 'laundry', 'lawyer', 'library', 'light_rail_station', 'liquor_store', 'local_government_office', 'locality', 'locksmith', 'lodging', 'meal_delivery', 'meal_takeaway', 'movie_theater', 'moving_company', 'museum', 'natural_feature', 'neighborhood', 'night_club', 'painter', 'park', 'parking', 'pet_store', 'pharmacy', 'plumber', 'point_of_interest', 'police', 'political', 'post_office', 'premise', 'real_estate_agency', 'restaurant', 'route', 'school', 'shoe_store', 'shopping_mall', 'spa', 'stadium', 'storage', 'store', 'street_address', 'sublocality_level_1', 'sublocality_level_2', 'subpremise', 'subway_station', 'supermarket', 'taxi_stand', 'train_station', 'transit_station', 'travel_agency', 'university', 'veterinary_care', 'zoo']\n",
            "Values of Fraudulent MC = ['restaurant', 'shopping_mall', 'meal_delivery', 'cafe', 'post_office', 'atm', 'point_of_interest', 'supermarket', 'department_store', 'convenience_store', 'movie_theater', 'night_club', 'clothing_store', 'grocery_or_supermarket', 'storage', 'airport', 'electrician', 'store', 'electronics_store', 'bakery', 'bar', 'local_government_office', 'spa', 'furniture_store', 'lodging', 'pharmacy', 'laundry', 'travel_agency', 'gas_station', 'transit_station', 'locality', 'museum', 'food', 'florist', 'street_address', 'home_goods_store', 'train_station', 'bank', 'real_estate_agency', 'meal_takeaway', 'car_rental', 'bicycle_store', 'university', 'hardware_store', 'book_store', 'doctor', 'library', 'administrative_area_level_1', 'art_gallery', 'casino', 'finance', 'natural_feature', 'amusement_park', 'shoe_store', 'bus_station', 'campground', 'gym', 'liquor_store', 'park', 'dentist', 'car_repair', 'administrative_area_level_3', 'church', 'hospital']\n",
            "Unique Values of MCTRY = ['AFG', 'AND', 'ARE', 'ARG', 'ATG', 'AUS', 'AUT', 'AZE', 'BEL', 'BEN', 'BGR', 'BHR', 'BHS', 'BLR', 'BLZ', 'BOL', 'BRA', 'BRB', 'CAN', 'CHE', 'CHL', 'CHN', 'CIV', 'COL', 'CPV', 'CRI', 'CUB', 'CYP', 'CZE', 'DEU', 'DNK', 'DOM', 'ECU', 'EGY', 'ESP', 'EST', 'FIN', 'FRA', 'GBR', 'GEO', 'GHA', 'GIB', 'GLP', 'GRC', 'GTM', 'HKG', 'HRV', 'HTI', 'HUN', 'IDN', 'IMN', 'IND', 'IRL', 'ISL', 'ISR', 'ITA', 'JAM', 'JOR', 'JPN', 'KEN', 'KHM', 'KOR', 'LAO', 'LBN', 'LCA', 'LKA', 'LTU', 'LUX', 'LVA', 'MAR', 'MDA', 'MDV', 'MEX', 'MKD', 'MLT', 'MMR', 'MOZ', 'MYS', 'NAM', 'NGA', 'NLD', 'NOR', 'NPL', 'NZL', 'OMN', 'PAK', 'PAN', 'PER', 'PHL', 'POL', 'PRT', 'PRY', 'QAT', 'QZZ', 'REU', 'ROM', 'RUS', 'RWA', 'SAU', 'SGP', 'SLV', 'SMR', 'SRB', 'SUR', 'SVK', 'SVN', 'SWE', 'SYC', 'THA', 'TUR', 'TWN', 'TZA', 'UKR', 'UNK', 'URY', 'USA', 'VAT', 'VNM', 'ZAF', 'ZMB', 'ZWE']\n",
            "Values of Fraudulent MCTRY = ['LTU', 'GBR', 'UKR', 'UNK', 'FRA', 'ARG', 'ZAF', 'USA', 'POL', 'CAN', 'AUS', 'LUX', 'ITA', 'LVA', 'EST', 'ESP', 'BHS', 'NLD', 'IRL', 'PRT', 'GRC', 'ROM', 'SWE', 'CYP', 'NZL', 'IND', 'IMN', 'DEU', 'FIN', 'KOR', 'HUN', 'MEX', 'GEO', 'BRA', 'MMR', 'PHL', 'IDN', 'CHE', 'DNK', 'SVN', 'THA', 'EGY', 'ISR', 'BEL', 'DOM', 'MYS', 'CHL', 'OMN', 'SGP', 'SLV', 'VNM', 'AND', 'NOR', 'AUT', 'HKG', 'ARE', 'RUS', 'MLT', 'KHM', 'LKA', 'CZE', 'TWN', 'MKD', 'SRB', 'GTM', 'GIB', 'JOR', 'AZE', 'MAR', 'COL', 'LAO', 'JPN', 'BGR', 'NAM', 'BLR', 'PAN', 'ZWE', 'ECU', 'ISL', 'CHN', 'NPL', 'TUR', 'CIV', 'SUR', 'HRV']\n",
            "Unique Values of Entry Methods = ['chip', 'cont', 'mags', 'manu', 'mcon', 'misc']\n",
            "Values of Fraudulent Entry Methods = ['cont', 'manu', 'misc', 'chip', 'mags', 'mcon']\n",
            "Unique Values of Source = ['APOLLO', 'CRONUS', 'GAIA', 'HERA', 'INTERNAL', 'LETO', 'LIMOS', 'MINOS', 'OPHION']\n",
            "Values of Fraudulent Sources = ['GAIA', 'HERA', 'LETO', 'INTERNAL', 'MINOS', 'CRONUS', 'APOLLO', 'LIMOS']\n",
            "Unique Values of Authentication = ['NONE', 'PASSED', 'PENDING', 'UNK']\n",
            "Values of Fraudulent Authentication = ['PASSED', 'UNK', 'NONE', 'PENDING']\n"
          ],
          "name": "stdout"
        }
      ]
    },
    {
      "cell_type": "code",
      "metadata": {
        "id": "7K0fabRwofds",
        "colab_type": "code",
        "outputId": "00fefa1a-2f73-4176-d091-97d25f4ace3a",
        "colab": {
          "base_uri": "https://localhost:8080/",
          "height": 119
        }
      },
      "source": [
        "\"\"\"\n",
        "  Weight of Evidence transformation and Information value\n",
        "\"\"\"\n",
        "def data_vrs(data,target,pr=True):\n",
        "  \n",
        "  IV_dict=dict()\n",
        "  for j in data.columns:\n",
        "    feature=j\n",
        "    if (data[j].dtype==\"object\" or data[j].dtype==np.bool):\n",
        "      lst=list()\n",
        "      unique_values=data[feature].unique()\n",
        "      for i in unique_values:\n",
        "        val = i\n",
        "        lst.append([feature,                                                        \n",
        "                    val,\n",
        "                    (data[data[feature]==val].min()[feature]),\n",
        "                    (data[data[feature]==val].max()[feature]),\n",
        "                    data[data[feature] == val].count()[feature],                        \n",
        "                    data[(data[feature] == val) & (data[target] == 1)].count()[feature], \n",
        "                    data[(data[feature] == val) & (data[target] == 0)].count()[feature]])\n",
        "        \n",
        "        \n",
        "      IV_table=pd.DataFrame(lst,columns=['Variable','Value','Min_Value','Max_value','Count','Fraud','Not-Fraud'])\n",
        "      IV_table['Individual-Share']=IV_table['Count']/IV_table['Count'].sum()\n",
        "      IV_table['Fraud-Rate-per-unique-value']=IV_table['Fraud']/IV_table['Count']\n",
        "      IV_table['Not-Fraud-Rate-per-unique-value']=IV_table['Not-Fraud']/IV_table['Count']\n",
        "      IV_table['Fraud-Distribution']=IV_table['Fraud']/IV_table['Fraud'].sum()\n",
        "      IV_table['Not-Fraud-Distribution']=IV_table['Not-Fraud']/IV_table['Not-Fraud'].sum()\n",
        "      IV_table['Weight-of-Evidence']=np.log(IV_table['Fraud-Distribution']/IV_table['Not-Fraud-Distribution'])\n",
        "      IV_table=IV_table.replace({'Weight-of-Evidence':{np.inf:0.0,-np.inf:0.0}})\n",
        "      IV_table['Information-Value']=(IV_table['Weight-of-Evidence'])*(IV_table['Fraud-Distribution']-IV_table['Not-Fraud-Distribution'])\n",
        "      \n",
        "      \n",
        "      with open('my_csv.csv', 'a') as f:\n",
        "        IV_table.to_csv(f,index=False, header=False)\n",
        "\n",
        "      IV_dict[j]=IV_table['Information-Value'].sum()\n",
        "    \n",
        "    if (data[j].dtype==np.int64 or data[j].dtype==np.float64) and (feature!='IS_FRAUDSTER_Wt'):\n",
        "\n",
        "      amount=pd.DataFrame(data[[feature,target]],columns=[feature,target])\n",
        "      print (feature)\n",
        "      bins = []\n",
        "      group_names=[]\n",
        "      n_bins=5\n",
        "\n",
        "      lower_bound=int(np.min(amount[feature]))\n",
        "      upper_bound=int(np.max(amount[feature]))\n",
        "      step_size=upper_bound/n_bins\n",
        "      i=0\n",
        "      while (lower_bound<upper_bound):\n",
        "        bins.append(lower_bound)\n",
        "        group_names.append(\"bin-\"+str(i+1))\n",
        "        lower_bound+=step_size\n",
        "        i=i+1\n",
        "      group_names.pop(len(group_names)-1)\n",
        "      amount['Intervals']=pd.cut(amount[feature],bins,labels=group_names)\n",
        "      amount=amount.replace({'Intervals':{np.NaN:\"NULL\"}})\n",
        "      \n",
        "      #print (amount)\n",
        "      lst=list()\n",
        "      unique_values=amount['Intervals'].unique()\n",
        "      \n",
        "      for n in unique_values:\n",
        "        val = n\n",
        "        lst.append([feature,                                                        \n",
        "                    val,\n",
        "                    (amount[amount['Intervals']==val].min()['Intervals']),\n",
        "                    (amount[amount['Intervals']==val].max()['Intervals']),\n",
        "                    amount[amount['Intervals'] == val].count()['Intervals'],                        \n",
        "                    amount[(amount['Intervals'] == val) & (amount[target] == 1)].count()['Intervals'], \n",
        "                    amount[(amount['Intervals'] == val) & (amount[target] == 0)].count()['Intervals']])\n",
        "        \n",
        "        \n",
        "      IV_table1=pd.DataFrame(lst,columns=['Variable','Value','Min_Value','Max_value','Count','Fraud','Not-Fraud'])\n",
        "      IV_table1['Individual-Share']=IV_table1['Count']/IV_table1['Count'].sum()\n",
        "      IV_table1['Fraud-Rate-per-unique-value']=IV_table1['Fraud']/IV_table1['Count']\n",
        "      IV_table1['Not-Fraud-Rate-per-unique-value']=IV_table1['Not-Fraud']/IV_table1['Count']\n",
        "      IV_table1['Fraud-Distribution']=IV_table1['Fraud']/IV_table1['Fraud'].sum()\n",
        "      IV_table1['Not-Fraud-Distribution']=IV_table1['Not-Fraud']/IV_table1['Not-Fraud'].sum()\n",
        "      IV_table1['Weight-of-Evidence']=np.log(IV_table1['Fraud-Distribution']/IV_table1['Not-Fraud-Distribution'])\n",
        "      IV_table1=IV_table1.replace({'Weight-of-Evidence':{np.inf:0.0,-np.inf:0.0}})\n",
        "      IV_table1['Information-Value']=(IV_table1['Weight-of-Evidence'])*(IV_table1['Fraud-Distribution']-IV_table1['Not-Fraud-Distribution'])\n",
        "      IV_table1=IV_table1.replace({'Information-Value':{np.inf:0.0,-np.inf:0.0}})\n",
        "      with open('my_csv.csv', 'a') as f:\n",
        "          IV_table1.to_csv(f,index=False, header=False)\n",
        "\n",
        "      IV_dict[j]=IV_table1['Information-Value'].sum()\n",
        "      \n",
        "  return IV_dict\n",
        "\n",
        "\n",
        "\n",
        "fl=data_vrs(new_data,'IS_FRAUDSTER_Wt',False)\n",
        "      \n",
        "      "
      ],
      "execution_count": 0,
      "outputs": [
        {
          "output_type": "stream",
          "text": [
            "Index\n",
            "AMOUNT\n",
            "AMOUNT_USD\n"
          ],
          "name": "stdout"
        },
        {
          "output_type": "stream",
          "text": [
            "/usr/local/lib/python3.6/dist-packages/ipykernel_launcher.py:81: RuntimeWarning: divide by zero encountered in log\n"
          ],
          "name": "stderr"
        },
        {
          "output_type": "stream",
          "text": [
            "EXPONENT\n"
          ],
          "name": "stdout"
        },
        {
          "output_type": "stream",
          "text": [
            "/usr/local/lib/python3.6/dist-packages/ipykernel_launcher.py:29: RuntimeWarning: divide by zero encountered in log\n"
          ],
          "name": "stderr"
        }
      ]
    },
    {
      "cell_type": "code",
      "metadata": {
        "id": "0WPlmxeW4fxl",
        "colab_type": "code",
        "colab": {}
      },
      "source": [
        "predictor=[]\n",
        "for key,value in fl.items():\n",
        "  if value<=0.02:\n",
        "    predictor.append((key,'useless for prediction'))\n",
        "  if value>0.02 and value<=0.1:\n",
        "    predictor.append((key,'Weak Predictor'))\n",
        "  if value>0.1 and value<=0.3:\n",
        "    predictor.append((key,'Meadium Predictor'))\n",
        "  if value>0.3 and value<=0.5:\n",
        "    predictor.append((key,'Strong Predictor'))\n",
        "  if value>0.5:\n",
        "    predictor.append((key,'Suspicious Predictor'))\n",
        "    \n",
        "    "
      ],
      "execution_count": 0,
      "outputs": []
    },
    {
      "cell_type": "code",
      "metadata": {
        "id": "LGFezShI5rxI",
        "colab_type": "code",
        "outputId": "0a572ce4-9275-4b75-a3fd-43fcb4716485",
        "colab": {
          "base_uri": "https://localhost:8080/",
          "height": 111
        }
      },
      "source": [
        "predictor_stat=pd.DataFrame(predictor,columns=['Feature','Prediction_Decision'])\n",
        "predictor_stat.head(2)"
      ],
      "execution_count": 0,
      "outputs": [
        {
          "output_type": "execute_result",
          "data": {
            "text/html": [
              "<div>\n",
              "<style scoped>\n",
              "    .dataframe tbody tr th:only-of-type {\n",
              "        vertical-align: middle;\n",
              "    }\n",
              "\n",
              "    .dataframe tbody tr th {\n",
              "        vertical-align: top;\n",
              "    }\n",
              "\n",
              "    .dataframe thead th {\n",
              "        text-align: right;\n",
              "    }\n",
              "</style>\n",
              "<table border=\"1\" class=\"dataframe\">\n",
              "  <thead>\n",
              "    <tr style=\"text-align: right;\">\n",
              "      <th></th>\n",
              "      <th>Feature</th>\n",
              "      <th>Prediction_Decision</th>\n",
              "    </tr>\n",
              "  </thead>\n",
              "  <tbody>\n",
              "    <tr>\n",
              "      <th>0</th>\n",
              "      <td>Index</td>\n",
              "      <td>Suspicious Predictor</td>\n",
              "    </tr>\n",
              "    <tr>\n",
              "      <th>1</th>\n",
              "      <td>CURRENCY</td>\n",
              "      <td>useless for prediction</td>\n",
              "    </tr>\n",
              "  </tbody>\n",
              "</table>\n",
              "</div>"
            ],
            "text/plain": [
              "    Feature     Prediction_Decision\n",
              "0     Index    Suspicious Predictor\n",
              "1  CURRENCY  useless for prediction"
            ]
          },
          "metadata": {
            "tags": []
          },
          "execution_count": 21
        }
      ]
    },
    {
      "cell_type": "code",
      "metadata": {
        "id": "3XsCV1QU56Je",
        "colab_type": "code",
        "outputId": "e2569792-aafc-4ae2-e58e-958441422ebf",
        "colab": {
          "base_uri": "https://localhost:8080/",
          "height": 425
        }
      },
      "source": [
        "IV_columns=list(predictor_stat.loc[predictor_stat.Prediction_Decision.isin(['Meadium Predictor','Strong Predictor','Suspicious Predictor'])]['Feature'])\n",
        "\n",
        "sorted_list=sorted(fl.items(), key = lambda x : x[1], reverse=True)\n",
        "sorted_list"
      ],
      "execution_count": 0,
      "outputs": [
        {
          "output_type": "execute_result",
          "data": {
            "text/plain": [
              "[('Index', 1.5239461762010549),\n",
              " ('MERCHANT_CATEGORY', 0.15604425354000215),\n",
              " ('USER_STATE', 0.14028402151513325),\n",
              " ('TRANS_DAY', 0.09197142438906979),\n",
              " ('MERCHANT_COUNTRY', 0.08874718746542926),\n",
              " ('BIRTH_YEAR', 0.05016484302971207),\n",
              " ('PHONE_COUNTRY', 0.03316568851711017),\n",
              " ('COUNTRY', 0.022809177547870155),\n",
              " ('NAME', 0.02038216844942696),\n",
              " ('SOURCE', 0.020351800691499392),\n",
              " ('TRANS_MONTH', 0.015857584333890815),\n",
              " ('TYPE', 0.0150588465988823),\n",
              " ('CURRENCY', 0.014335916602498732),\n",
              " ('COUNTRY_CURRENCY', 0.014335916602498732),\n",
              " ('ENTRY_METHOD', 0.012344935494327832),\n",
              " ('AUTH_PASSED', 0.0071044799426767755),\n",
              " ('TRAN_STATE', 0.006737182995782104),\n",
              " ('FAILED_SIGN_IN_ATTEMPTS', 0.0038584237576817617),\n",
              " ('TRANS_YEAR', 0.0018973805506949815),\n",
              " ('IS_CRYPTO', 0.0015129301423951879),\n",
              " ('AMOUNT_USD', 0.0011029084088578947),\n",
              " ('HAS_EMAIL', 0.0010291716916264867),\n",
              " ('AMOUNT', 0.000803587951833426),\n",
              " ('EXPONENT', 0.0)]"
            ]
          },
          "metadata": {
            "tags": []
          },
          "execution_count": 22
        }
      ]
    },
    {
      "cell_type": "code",
      "metadata": {
        "id": "-8PPx71hhBuN",
        "colab_type": "code",
        "colab": {}
      },
      "source": [
        "woe_columns=['Variable','Value','Min_Value','Max_value','Count','Fraud','Not-Fraud',\n",
        "             'Individual-Share','Fraud-Rate-per-unique-value','Not-Fraud-Rate-per-unique-value',\n",
        "             'Fraud-Distribution','Not-Fraud-Distribution','Weight-of-Evidence','Information-Value']\n",
        "woe_table=pd.read_csv('./my_csv.csv',names=woe_columns)\n",
        "woe_table.head(5)"
      ],
      "execution_count": 0,
      "outputs": []
    },
    {
      "cell_type": "code",
      "metadata": {
        "id": "wwIzOaSWBz4X",
        "colab_type": "code",
        "colab": {}
      },
      "source": [
        "def prepare_dataset(data,columns,target):\n",
        "  #Encode dataset\n",
        "  for i in columns:\n",
        "    if data[i].dtype==object:\n",
        "      X=data[i].values.tolist()\n",
        "      le = preprocessing.LabelEncoder()\n",
        "      X=le.fit_transform(X)\n",
        "      data[i]=X\n",
        "  X=data[columns].values.tolist()\n",
        "  #data[target]=data[target].apply(lambda x: 1 if x==True else 0)\n",
        "  Y=data[target].values.tolist()\n",
        "  X_train,X_test,Y_train,Y_test=train_test_split(X,Y,test_size=0.30,random_state=5)\n",
        "  return X_train,X_test,Y_train,Y_test,X,Y"
      ],
      "execution_count": 0,
      "outputs": []
    },
    {
      "cell_type": "code",
      "metadata": {
        "id": "V3jZPyUDB3Dv",
        "colab_type": "code",
        "colab": {}
      },
      "source": [
        "def BM_LR_Model(X_train,X_test,Y_train,Y_test,cw=\"LR\"):\n",
        "  if cw==\"LR\":\n",
        "    clf = LogisticRegression(random_state=42,solver='lbfgs',multi_class='ovr',max_iter=1000).fit(X_train, Y_train)\n",
        "    pred=clf.predict(X_test)\n",
        "\n",
        "    filename='Fraud_Detection_LR.pkl'\n",
        "    joblib.dump(clf,filename)\n",
        "    return pred\n",
        "  if cw==\"XG\":\n",
        "      clf = XGBClassifier().fit(X_train, Y_train)\n",
        "      pred=clf.predict(X_test)\n",
        "      #print (pred)\n",
        "      #pred = [round(value) for value in pred]\n",
        "\n",
        "      filename='Fraud_Detection_XG_BOOST.pkl'\n",
        "      joblib.dump(clf,filename)\n",
        "      return pred\n",
        "    \n",
        "  if cw==\"RF\":\n",
        "    RandomForestClassifier\n",
        "    clf = RandomForestClassifier(n_estimators=50).fit(X_train, Y_train)\n",
        "    pred=clf.predict(X_test)\n",
        "    \n",
        "\n",
        "    filename='Fraud_Detection_RF.pkl'\n",
        "    joblib.dump(clf,filename)\n",
        "    return pred"
      ],
      "execution_count": 0,
      "outputs": []
    },
    {
      "cell_type": "code",
      "metadata": {
        "id": "bEt-yjzdnImq",
        "colab_type": "code",
        "colab": {}
      },
      "source": [
        "def performance_metrics(pred,Y_test):\n",
        "    score=precision_score(Y_test,pred,average='weighted')*100\n",
        "    F1_Score=f1_score(Y_test,pred,average='weighted')*100\n",
        "    accuracy=(np.sum(Y_test==pred)/len(Y_test))*100\n",
        "    recall=recall_score(Y_test,pred,average='weighted')*100\n",
        "    auc=roc_auc_score(Y_test,pred)*100\n",
        "    \n",
        "    return score,F1_Score,accuracy,recall,auc\n",
        "    "
      ],
      "execution_count": 0,
      "outputs": []
    },
    {
      "cell_type": "code",
      "metadata": {
        "id": "feRf5GBYgGi2",
        "colab_type": "code",
        "colab": {}
      },
      "source": [
        "classifiers=['LR','XG','RF']\n",
        "result_table=pd.DataFrame(columns=['Model','F1-Score','Accuracy','Precision','Recall','Area_Under_Curve','fpr','tpr','Actual_Values','Pred_Values'])"
      ],
      "execution_count": 0,
      "outputs": []
    },
    {
      "cell_type": "code",
      "metadata": {
        "id": "wkoON7c4gsws",
        "colab_type": "code",
        "outputId": "611e91db-c839-47ed-9b02-5b42c5023e58",
        "colab": {
          "base_uri": "https://localhost:8080/",
          "height": 105
        }
      },
      "source": [
        "\n",
        "for i in classifiers:\n",
        "  X_train,X_test,Y_train,Y_test,X,Y=prepare_dataset(new_data,IV_columns,'IS_FRAUDSTER_Wt')\n",
        "\n",
        "  pred= BM_LR_Model(np.array(X_train),np.array(X_test),np.array(Y_train),np.array(Y_test),i)\n",
        "  precision,F1_Score,accuracy,recall,auc=performance_metrics(pred,Y_test)\n",
        "  fpr,tpr,_=roc_curve(Y_test,pred)\n",
        "  result_table=result_table.append({'Model':i,'F1-Score':F1_Score,'Accuracy':accuracy,'Precision':precision,'Recall':recall,'Area_Under_Curve':auc,'fpr':fpr,'tpr':tpr,'Actual_Values':Y_test,'Pred_Values':pred}\n",
        "                      ,ignore_index=True)\n",
        "\n",
        "  \n",
        "result_table.set_index('Model',inplace=True)  "
      ],
      "execution_count": 0,
      "outputs": [
        {
          "output_type": "stream",
          "text": [
            "/usr/local/lib/python3.6/dist-packages/sklearn/metrics/classification.py:1437: UndefinedMetricWarning: Precision is ill-defined and being set to 0.0 in labels with no predicted samples.\n",
            "  'precision', 'predicted', average, warn_for)\n",
            "/usr/local/lib/python3.6/dist-packages/sklearn/metrics/classification.py:1437: UndefinedMetricWarning: F-score is ill-defined and being set to 0.0 in labels with no predicted samples.\n",
            "  'precision', 'predicted', average, warn_for)\n"
          ],
          "name": "stderr"
        }
      ]
    },
    {
      "cell_type": "code",
      "metadata": {
        "id": "UvfRwwN8ikCE",
        "colab_type": "code",
        "outputId": "4f11cc75-9c98-4ecf-d0c9-4d105b4ea950",
        "colab": {
          "base_uri": "https://localhost:8080/",
          "height": 258
        }
      },
      "source": [
        "result_table"
      ],
      "execution_count": 0,
      "outputs": [
        {
          "output_type": "execute_result",
          "data": {
            "text/html": [
              "<div>\n",
              "<style scoped>\n",
              "    .dataframe tbody tr th:only-of-type {\n",
              "        vertical-align: middle;\n",
              "    }\n",
              "\n",
              "    .dataframe tbody tr th {\n",
              "        vertical-align: top;\n",
              "    }\n",
              "\n",
              "    .dataframe thead th {\n",
              "        text-align: right;\n",
              "    }\n",
              "</style>\n",
              "<table border=\"1\" class=\"dataframe\">\n",
              "  <thead>\n",
              "    <tr style=\"text-align: right;\">\n",
              "      <th></th>\n",
              "      <th>F1-Score</th>\n",
              "      <th>Accuracy</th>\n",
              "      <th>Precision</th>\n",
              "      <th>Recall</th>\n",
              "      <th>Area_Under_Curve</th>\n",
              "      <th>fpr</th>\n",
              "      <th>tpr</th>\n",
              "      <th>Actual_Values</th>\n",
              "      <th>Pred_Values</th>\n",
              "    </tr>\n",
              "    <tr>\n",
              "      <th>Model</th>\n",
              "      <th></th>\n",
              "      <th></th>\n",
              "      <th></th>\n",
              "      <th></th>\n",
              "      <th></th>\n",
              "      <th></th>\n",
              "      <th></th>\n",
              "      <th></th>\n",
              "      <th></th>\n",
              "    </tr>\n",
              "  </thead>\n",
              "  <tbody>\n",
              "    <tr>\n",
              "      <th>LR</th>\n",
              "      <td>89.978117</td>\n",
              "      <td>93.239916</td>\n",
              "      <td>86.936819</td>\n",
              "      <td>93.239916</td>\n",
              "      <td>50.000000</td>\n",
              "      <td>[0.0, 1.0]</td>\n",
              "      <td>[0.0, 1.0]</td>\n",
              "      <td>[0, 0, 0, 0, 0, 0, 0, 0, 0, 0, 1, 0, 0, 0, 0, ...</td>\n",
              "      <td>[0, 0, 0, 0, 0, 0, 0, 0, 0, 0, 0, 0, 0, 0, 0, ...</td>\n",
              "    </tr>\n",
              "    <tr>\n",
              "      <th>XG</th>\n",
              "      <td>97.376047</td>\n",
              "      <td>97.607880</td>\n",
              "      <td>97.643415</td>\n",
              "      <td>97.607880</td>\n",
              "      <td>82.588573</td>\n",
              "      <td>[0.0, 0.0004401685216625794, 1.0]</td>\n",
              "      <td>[0.0, 0.6522116218560278, 1.0]</td>\n",
              "      <td>[0, 0, 0, 0, 0, 0, 0, 0, 0, 0, 1, 0, 0, 0, 0, ...</td>\n",
              "      <td>[0, 0, 0, 0, 0, 0, 0, 0, 0, 0, 1, 0, 0, 0, 0, ...</td>\n",
              "    </tr>\n",
              "    <tr>\n",
              "      <th>RF</th>\n",
              "      <td>95.658397</td>\n",
              "      <td>95.684803</td>\n",
              "      <td>95.633742</td>\n",
              "      <td>95.684803</td>\n",
              "      <td>82.281300</td>\n",
              "      <td>[0.0, 0.022197069735270074, 1.0]</td>\n",
              "      <td>[0.0, 0.6678230702515178, 1.0]</td>\n",
              "      <td>[0, 0, 0, 0, 0, 0, 0, 0, 0, 0, 1, 0, 0, 0, 0, ...</td>\n",
              "      <td>[0, 0, 0, 0, 0, 0, 0, 0, 0, 0, 1, 0, 0, 0, 0, ...</td>\n",
              "    </tr>\n",
              "  </tbody>\n",
              "</table>\n",
              "</div>"
            ],
            "text/plain": [
              "        F1-Score  ...                                        Pred_Values\n",
              "Model             ...                                                   \n",
              "LR     89.978117  ...  [0, 0, 0, 0, 0, 0, 0, 0, 0, 0, 0, 0, 0, 0, 0, ...\n",
              "XG     97.376047  ...  [0, 0, 0, 0, 0, 0, 0, 0, 0, 0, 1, 0, 0, 0, 0, ...\n",
              "RF     95.658397  ...  [0, 0, 0, 0, 0, 0, 0, 0, 0, 0, 1, 0, 0, 0, 0, ...\n",
              "\n",
              "[3 rows x 9 columns]"
            ]
          },
          "metadata": {
            "tags": []
          },
          "execution_count": 161
        }
      ]
    },
    {
      "cell_type": "code",
      "metadata": {
        "id": "L40Et0rpbceG",
        "colab_type": "code",
        "outputId": "05d3c8ef-fea6-404a-b757-711f25290381",
        "colab": {
          "base_uri": "https://localhost:8080/",
          "height": 409
        }
      },
      "source": [
        "fig = plt.figure(figsize=(16,6))\n",
        "\n",
        "for i in result_table.index:\n",
        "    plt.plot(result_table.loc[i]['fpr'], \n",
        "             result_table.loc[i]['tpr'], \n",
        "             label=\"{}, AUC={:.3f}\".format(i, result_table.loc[i]['Area_Under_Curve']))\n",
        "    \n",
        "plt.plot([0,1], [0,1], color='orange', linestyle='--')\n",
        "\n",
        "plt.xticks(np.arange(0.0, 1.1, step=0.1))\n",
        "plt.xlabel(\"False Positive Rate\", fontsize=15)\n",
        "\n",
        "plt.yticks(np.arange(0.0, 1.1, step=0.1))\n",
        "plt.ylabel(\"True Positive Rate\", fontsize=15)\n",
        "\n",
        "plt.title('ROC Curve Analysis', fontweight='bold', fontsize=15)\n",
        "plt.legend(prop={'size':13}, loc='lower right')\n",
        "\n",
        "plt.show()"
      ],
      "execution_count": 0,
      "outputs": [
        {
          "output_type": "display_data",
          "data": {
            "image/png": "[encoded data removed]",
            "text/plain": [
              "<Figure size 1152x432 with 1 Axes>"
            ]
          },
          "metadata": {
            "tags": []
          }
        }
      ]
    },
    {
      "cell_type": "code",
      "metadata": {
        "id": "FDfPpYHN1toR",
        "colab_type": "code",
        "colab": {}
      },
      "source": [
        ""
      ],
      "execution_count": 0,
      "outputs": []
    }
  ]
}